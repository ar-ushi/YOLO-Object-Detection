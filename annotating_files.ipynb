{
  "nbformat": 4,
  "nbformat_minor": 0,
  "metadata": {
    "colab": {
      "name": "annotating_files.ipynb",
      "provenance": [],
      "authorship_tag": "ABX9TyNZFaP9pWRyrw3kRPFRFIPb",
      "include_colab_link": true
    },
    "kernelspec": {
      "name": "python3",
      "display_name": "Python 3"
    }
  },
  "cells": [
    {
      "cell_type": "markdown",
      "metadata": {
        "id": "view-in-github",
        "colab_type": "text"
      },
      "source": [
        "<a href=\"https://colab.research.google.com/github/ar-ushi/YOLO-Object-Detection/blob/master/annotating_files.ipynb\" target=\"_parent\"><img src=\"https://colab.research.google.com/assets/colab-badge.svg\" alt=\"Open In Colab\"/></a>"
      ]
    },
    {
      "cell_type": "code",
      "metadata": {
        "id": "f3CjX3_tOIhc",
        "outputId": "b1bc866a-c56c-45c0-a105-0095debab9ca",
        "colab": {
          "base_uri": "https://localhost:8080/",
          "height": 34
        }
      },
      "source": [
        "#mount google drive\n",
        "from google.colab import drive\n",
        "drive.mount('/content/drive')"
      ],
      "execution_count": null,
      "outputs": [
        {
          "output_type": "stream",
          "text": [
            "Mounted at /content/drive\n"
          ],
          "name": "stdout"
        }
      ]
    },
    {
      "cell_type": "code",
      "metadata": {
        "id": "1rgQQ0amQ5sW"
      },
      "source": [
        "import pandas as pd\n",
        "import os"
      ],
      "execution_count": null,
      "outputs": []
    },
    {
      "cell_type": "code",
      "metadata": {
        "id": "rgYVFHggQ9Aw",
        "outputId": "cdda5285-2e25-411f-a60d-bfff492eede0",
        "colab": {
          "base_uri": "https://localhost:8080/",
          "height": 195
        }
      },
      "source": [
        "os.chdir('/content/drive/My Drive/YOLO_V4/Data/csv_folder')\n",
        "classes = pd.read_csv('class-descriptions-boxable.csv', header = None)\n",
        "classes.head()"
      ],
      "execution_count": null,
      "outputs": [
        {
          "output_type": "execute_result",
          "data": {
            "text/html": [
              "<div>\n",
              "<style scoped>\n",
              "    .dataframe tbody tr th:only-of-type {\n",
              "        vertical-align: middle;\n",
              "    }\n",
              "\n",
              "    .dataframe tbody tr th {\n",
              "        vertical-align: top;\n",
              "    }\n",
              "\n",
              "    .dataframe thead th {\n",
              "        text-align: right;\n",
              "    }\n",
              "</style>\n",
              "<table border=\"1\" class=\"dataframe\">\n",
              "  <thead>\n",
              "    <tr style=\"text-align: right;\">\n",
              "      <th></th>\n",
              "      <th>0</th>\n",
              "      <th>1</th>\n",
              "    </tr>\n",
              "  </thead>\n",
              "  <tbody>\n",
              "    <tr>\n",
              "      <th>0</th>\n",
              "      <td>/m/011k07</td>\n",
              "      <td>Tortoise</td>\n",
              "    </tr>\n",
              "    <tr>\n",
              "      <th>1</th>\n",
              "      <td>/m/011q46kg</td>\n",
              "      <td>Container</td>\n",
              "    </tr>\n",
              "    <tr>\n",
              "      <th>2</th>\n",
              "      <td>/m/012074</td>\n",
              "      <td>Magpie</td>\n",
              "    </tr>\n",
              "    <tr>\n",
              "      <th>3</th>\n",
              "      <td>/m/0120dh</td>\n",
              "      <td>Sea turtle</td>\n",
              "    </tr>\n",
              "    <tr>\n",
              "      <th>4</th>\n",
              "      <td>/m/01226z</td>\n",
              "      <td>Football</td>\n",
              "    </tr>\n",
              "  </tbody>\n",
              "</table>\n",
              "</div>"
            ],
            "text/plain": [
              "             0           1\n",
              "0    /m/011k07    Tortoise\n",
              "1  /m/011q46kg   Container\n",
              "2    /m/012074      Magpie\n",
              "3    /m/0120dh  Sea turtle\n",
              "4    /m/01226z    Football"
            ]
          },
          "metadata": {
            "tags": []
          },
          "execution_count": 4
        }
      ]
    },
    {
      "cell_type": "code",
      "metadata": {
        "id": "06qRSJ3NWZoc",
        "outputId": "efcc9a76-ce9b-4fcd-e00f-80f771c9aa32",
        "colab": {
          "base_uri": "https://localhost:8080/",
          "height": 67
        }
      },
      "source": [
        "cname = ['Coffee', 'Tea']\n",
        "\n",
        "#get strings corresponding to cname\n",
        "strings = []\n",
        "for i in cname:\n",
        "  req_class = classes.loc[classes[1] == i]\n",
        "  string = req_class.iloc[0][0]\n",
        "  print(string)\n",
        "  #appending string corresponding to cname into the list\n",
        "  strings.append(string)\n",
        "\n",
        "print(strings)"
      ],
      "execution_count": null,
      "outputs": [
        {
          "output_type": "stream",
          "text": [
            "/m/02vqfm\n",
            "/m/07clx\n",
            "['/m/02vqfm', '/m/07clx']\n"
          ],
          "name": "stdout"
        }
      ]
    },
    {
      "cell_type": "code",
      "metadata": {
        "id": "twlkw1Bec5nh",
        "outputId": "b1266c9a-f51c-4ae4-af8e-d4507b74a45c",
        "colab": {
          "base_uri": "https://localhost:8080/",
          "height": 195
        }
      },
      "source": [
        "#getting required columns - center,x,y,width and height\n",
        "annotate = pd.read_csv('train-annotations-bbox.csv', usecols = ['ImageID','LabelName', 'XMin', 'XMax','YMin', 'YMax'])\n",
        "annotate.head()"
      ],
      "execution_count": null,
      "outputs": [
        {
          "output_type": "execute_result",
          "data": {
            "text/html": [
              "<div>\n",
              "<style scoped>\n",
              "    .dataframe tbody tr th:only-of-type {\n",
              "        vertical-align: middle;\n",
              "    }\n",
              "\n",
              "    .dataframe tbody tr th {\n",
              "        vertical-align: top;\n",
              "    }\n",
              "\n",
              "    .dataframe thead th {\n",
              "        text-align: right;\n",
              "    }\n",
              "</style>\n",
              "<table border=\"1\" class=\"dataframe\">\n",
              "  <thead>\n",
              "    <tr style=\"text-align: right;\">\n",
              "      <th></th>\n",
              "      <th>ImageID</th>\n",
              "      <th>LabelName</th>\n",
              "      <th>XMin</th>\n",
              "      <th>XMax</th>\n",
              "      <th>YMin</th>\n",
              "      <th>YMax</th>\n",
              "    </tr>\n",
              "  </thead>\n",
              "  <tbody>\n",
              "    <tr>\n",
              "      <th>0</th>\n",
              "      <td>000002b66c9c498e</td>\n",
              "      <td>/m/01g317</td>\n",
              "      <td>0.012500</td>\n",
              "      <td>0.195312</td>\n",
              "      <td>0.148438</td>\n",
              "      <td>0.587500</td>\n",
              "    </tr>\n",
              "    <tr>\n",
              "      <th>1</th>\n",
              "      <td>000002b66c9c498e</td>\n",
              "      <td>/m/01g317</td>\n",
              "      <td>0.025000</td>\n",
              "      <td>0.276563</td>\n",
              "      <td>0.714063</td>\n",
              "      <td>0.948438</td>\n",
              "    </tr>\n",
              "    <tr>\n",
              "      <th>2</th>\n",
              "      <td>000002b66c9c498e</td>\n",
              "      <td>/m/01g317</td>\n",
              "      <td>0.151562</td>\n",
              "      <td>0.310937</td>\n",
              "      <td>0.198437</td>\n",
              "      <td>0.590625</td>\n",
              "    </tr>\n",
              "    <tr>\n",
              "      <th>3</th>\n",
              "      <td>000002b66c9c498e</td>\n",
              "      <td>/m/01g317</td>\n",
              "      <td>0.256250</td>\n",
              "      <td>0.429688</td>\n",
              "      <td>0.651563</td>\n",
              "      <td>0.925000</td>\n",
              "    </tr>\n",
              "    <tr>\n",
              "      <th>4</th>\n",
              "      <td>000002b66c9c498e</td>\n",
              "      <td>/m/01g317</td>\n",
              "      <td>0.257812</td>\n",
              "      <td>0.346875</td>\n",
              "      <td>0.235938</td>\n",
              "      <td>0.385938</td>\n",
              "    </tr>\n",
              "  </tbody>\n",
              "</table>\n",
              "</div>"
            ],
            "text/plain": [
              "            ImageID  LabelName      XMin      XMax      YMin      YMax\n",
              "0  000002b66c9c498e  /m/01g317  0.012500  0.195312  0.148438  0.587500\n",
              "1  000002b66c9c498e  /m/01g317  0.025000  0.276563  0.714063  0.948438\n",
              "2  000002b66c9c498e  /m/01g317  0.151562  0.310937  0.198437  0.590625\n",
              "3  000002b66c9c498e  /m/01g317  0.256250  0.429688  0.651563  0.925000\n",
              "4  000002b66c9c498e  /m/01g317  0.257812  0.346875  0.235938  0.385938"
            ]
          },
          "metadata": {
            "tags": []
          },
          "execution_count": 6
        }
      ]
    },
    {
      "cell_type": "code",
      "metadata": {
        "id": "r1-xPAJ5I7II",
        "outputId": "948e86f2-b1a0-447d-8ed1-4f369af753e6",
        "colab": {
          "base_uri": "https://localhost:8080/",
          "height": 195
        }
      },
      "source": [
        "#get records with matching classes\n",
        "filter_data = annotate.loc[annotate['LabelName'].isin(strings)].copy()\n",
        "filter_data.head()"
      ],
      "execution_count": null,
      "outputs": [
        {
          "output_type": "execute_result",
          "data": {
            "text/html": [
              "<div>\n",
              "<style scoped>\n",
              "    .dataframe tbody tr th:only-of-type {\n",
              "        vertical-align: middle;\n",
              "    }\n",
              "\n",
              "    .dataframe tbody tr th {\n",
              "        vertical-align: top;\n",
              "    }\n",
              "\n",
              "    .dataframe thead th {\n",
              "        text-align: right;\n",
              "    }\n",
              "</style>\n",
              "<table border=\"1\" class=\"dataframe\">\n",
              "  <thead>\n",
              "    <tr style=\"text-align: right;\">\n",
              "      <th></th>\n",
              "      <th>ImageID</th>\n",
              "      <th>LabelName</th>\n",
              "      <th>XMin</th>\n",
              "      <th>XMax</th>\n",
              "      <th>YMin</th>\n",
              "      <th>YMax</th>\n",
              "    </tr>\n",
              "  </thead>\n",
              "  <tbody>\n",
              "    <tr>\n",
              "      <th>4383</th>\n",
              "      <td>0002f921515d14e8</td>\n",
              "      <td>/m/02vqfm</td>\n",
              "      <td>0.050625</td>\n",
              "      <td>0.836250</td>\n",
              "      <td>0.038332</td>\n",
              "      <td>0.630800</td>\n",
              "    </tr>\n",
              "    <tr>\n",
              "      <th>4613</th>\n",
              "      <td>00030b70a3abfcea</td>\n",
              "      <td>/m/07clx</td>\n",
              "      <td>0.739375</td>\n",
              "      <td>0.998750</td>\n",
              "      <td>0.000000</td>\n",
              "      <td>0.737488</td>\n",
              "    </tr>\n",
              "    <tr>\n",
              "      <th>4615</th>\n",
              "      <td>00030b70a3abfcea</td>\n",
              "      <td>/m/07clx</td>\n",
              "      <td>0.761875</td>\n",
              "      <td>0.997500</td>\n",
              "      <td>0.084042</td>\n",
              "      <td>0.279509</td>\n",
              "    </tr>\n",
              "    <tr>\n",
              "      <th>5701</th>\n",
              "      <td>0003d7be45f109cb</td>\n",
              "      <td>/m/02vqfm</td>\n",
              "      <td>0.000000</td>\n",
              "      <td>0.498437</td>\n",
              "      <td>0.239063</td>\n",
              "      <td>0.509375</td>\n",
              "    </tr>\n",
              "    <tr>\n",
              "      <th>15674</th>\n",
              "      <td>000c26b44a7b6a22</td>\n",
              "      <td>/m/02vqfm</td>\n",
              "      <td>0.729375</td>\n",
              "      <td>0.761250</td>\n",
              "      <td>0.326742</td>\n",
              "      <td>0.398305</td>\n",
              "    </tr>\n",
              "  </tbody>\n",
              "</table>\n",
              "</div>"
            ],
            "text/plain": [
              "                ImageID  LabelName      XMin      XMax      YMin      YMax\n",
              "4383   0002f921515d14e8  /m/02vqfm  0.050625  0.836250  0.038332  0.630800\n",
              "4613   00030b70a3abfcea   /m/07clx  0.739375  0.998750  0.000000  0.737488\n",
              "4615   00030b70a3abfcea   /m/07clx  0.761875  0.997500  0.084042  0.279509\n",
              "5701   0003d7be45f109cb  /m/02vqfm  0.000000  0.498437  0.239063  0.509375\n",
              "15674  000c26b44a7b6a22  /m/02vqfm  0.729375  0.761250  0.326742  0.398305"
            ]
          },
          "metadata": {
            "tags": []
          },
          "execution_count": 7
        }
      ]
    },
    {
      "cell_type": "code",
      "metadata": {
        "id": "Fgws01WPJNxx"
      },
      "source": [
        "filter_data['classNumber'] = ''\n",
        "filter_data['center-x'] = ''\n",
        "filter_data['center-y'] = ''\n",
        "filter_data['width'] = ''\n",
        "filter_data['height'] = ''"
      ],
      "execution_count": null,
      "outputs": []
    },
    {
      "cell_type": "code",
      "metadata": {
        "id": "bQhNPbMIJkru"
      },
      "source": [
        "#iterate through all class strings and assign a class number acccording to the order \n",
        "for i in range(len(strings)): \n",
        "  filter_data.loc[filter_data['LabelName'] == strings[1], 'classNumber'] = i\n",
        "#calculate center x and center y values\n",
        "filter_data['center-x'] = (filter_data['XMax'] + filter_data['XMin']) / 2\n",
        "filter_data['center-y'] = (filter_data['YMax'] + filter_data['YMin']) / 2\n",
        "\n",
        "#calculate width and height values\n",
        "filter_data['width'] = filter_data['XMax'] - filter_data['XMin']\n",
        "filter_data['height'] = filter_data['YMax'] - filter_data['YMin']\n",
        "\n",
        "yolo_val = filter_data.loc[:,['ImageID','classNumber','center-x', 'center-y','width', 'height']]"
      ],
      "execution_count": null,
      "outputs": []
    },
    {
      "cell_type": "code",
      "metadata": {
        "id": "wrunfEnmSCJ8"
      },
      "source": [
        "img_path ='/content/drive/My Drive/YOLO_V4/Data/Dataset/train/Coffee_Tea'\n",
        "\n",
        "os.chdir(img_path)\n",
        "\n",
        "for current_dir, dirs, files in os.walk('.'):\n",
        "  for f in files:\n",
        "    if f.endswith('.jpg'):\n",
        "      img_title = f[:-4]\n",
        "      yolo_file = yolo_val.loc[yolo_val['ImageID'] == img_title]\n",
        "\n",
        "      df = yolo_file.loc[:,['classNumber','center-x', 'center-y','width', 'height']]\n",
        "      save_path = img_path + '/' + img_title + '.txt'\n",
        "\n",
        "      df.to_csv(save_path,header=False, index= False,sep=' ')\n"
      ],
      "execution_count": null,
      "outputs": []
    }
  ]
}