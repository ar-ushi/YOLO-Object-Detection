{
  "nbformat": 4,
  "nbformat_minor": 0,
  "metadata": {
    "colab": {
      "name": "Training_Test_Files.ipynb",
      "provenance": [],
      "authorship_tag": "ABX9TyNrGlzkEdH53dkUWQUmP5/m",
      "include_colab_link": true
    },
    "kernelspec": {
      "name": "python3",
      "display_name": "Python 3"
    }
  },
  "cells": [
    {
      "cell_type": "markdown",
      "metadata": {
        "id": "view-in-github",
        "colab_type": "text"
      },
      "source": [
        "<a href=\"https://colab.research.google.com/github/ar-ushi/YOLO-Object-Detection/blob/master/Training_Test_Files.ipynb\" target=\"_parent\"><img src=\"https://colab.research.google.com/assets/colab-badge.svg\" alt=\"Open In Colab\"/></a>"
      ]
    },
    {
      "cell_type": "code",
      "metadata": {
        "id": "lpUftqS8TgHO",
        "outputId": "6591ea5c-396a-4b3f-9570-5280ddde6022",
        "colab": {
          "base_uri": "https://localhost:8080/",
          "height": 34
        }
      },
      "source": [
        "#mount google drive\n",
        "from google.colab import drive\n",
        "drive.mount('/content/drive')"
      ],
      "execution_count": null,
      "outputs": [
        {
          "output_type": "stream",
          "text": [
            "Mounted at /content/drive\n"
          ],
          "name": "stdout"
        }
      ]
    },
    {
      "cell_type": "code",
      "metadata": {
        "id": "IRQlJZF6T_ic"
      },
      "source": [
        "import os"
      ],
      "execution_count": null,
      "outputs": []
    },
    {
      "cell_type": "code",
      "metadata": {
        "id": "R9DU5PIAUBAY"
      },
      "source": [
        "#setting image path\n",
        "img_path ='/content/drive/My Drive/YOLO_V4/Data/Dataset/train/Coffee_Tea'\n",
        "\n",
        "os.chdir(img_path)"
      ],
      "execution_count": null,
      "outputs": []
    },
    {
      "cell_type": "code",
      "metadata": {
        "id": "BFj_eIS5UImU"
      },
      "source": [
        "path_list = []\n",
        "for current_dir, dirs, files in os.walk('.'):\n",
        "  for f in files:\n",
        "    if f.endswith('.jpg'):\n",
        "      save_path = img_path + '/' + f\n",
        "      path_list.append(save_path + '\\n')\n",
        "\n",
        "      "
      ],
      "execution_count": null,
      "outputs": []
    },
    {
      "cell_type": "code",
      "metadata": {
        "id": "8WMi3PbtUXT8"
      },
      "source": [
        "#divide the data into 80:20 ratio (train test split)\n",
        "path_test = path_list[:int(len(path_list) * 0.20)]\n",
        "\n",
        "#delete the 20% records from path_list to prevent overlap\n",
        "path_list = path_list[int(len(path_list) * 0.20):]"
      ],
      "execution_count": null,
      "outputs": []
    },
    {
      "cell_type": "code",
      "metadata": {
        "id": "lNZuFXqiUsnd"
      },
      "source": [
        "with open('train.txt', 'w') as train:\n",
        "  for i in path_list:\n",
        "    train.write(i)\n",
        "with open('test.txt', 'w') as test:\n",
        "  for i in path_test:\n",
        "    test.write(i)"
      ],
      "execution_count": null,
      "outputs": []
    },
    {
      "cell_type": "code",
      "metadata": {
        "id": "WL-W_fBtVBQ2"
      },
      "source": [
        "#initialise the counter\n",
        "i = 0 \n",
        "#create classes files by reading content from existing classes.txt file\n",
        "with open(img_path + '/' + 'classes.names', 'w' ) as cls,  open(img_path + '/' + 'classes.txt', 'r') as text:\n",
        "  for l in text:\n",
        "    cls.write(l)\n",
        "    i += 1\n",
        "  "
      ],
      "execution_count": null,
      "outputs": []
    },
    {
      "cell_type": "code",
      "metadata": {
        "id": "o8qY0-MRbWcW"
      },
      "source": [
        "with open (img_path + '/' + 'image_data.data', 'w') as data:\n",
        "  #write number of classes\n",
        "  data.write('classes = ' + str(i) + '\\n')\n",
        "  data.write('train = ' + img_path + '/' + 'train.txt' + '\\n')\n",
        "  data.write('valid = ' + img_path + '/' + 'test.txt' + '\\n')\n",
        "  data.write('names = ' + img_path + '/' + 'classes.names' + '\\n')\n",
        "  data.write('backup = backup')"
      ],
      "execution_count": null,
      "outputs": []
    }
  ]
}